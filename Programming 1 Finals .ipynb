{
 "cells": [
  {
   "cell_type": "markdown",
   "metadata": {},
   "source": [
    "# Loading data and data cleaning"
   ]
  },
  {
   "cell_type": "code",
   "execution_count": 138,
   "metadata": {},
   "outputs": [],
   "source": [
    "import os\n",
    "import string\n",
    "import nltk\n",
    "\n",
    "text_data = {}\n",
    "common_words_dict = {} # this will be used to count the number of common words in the processed data\n",
    "result = {}\n",
    "insignificant = string.punctuation+('1234567890•—')+('\\n')\n",
    "# cwd is a parameter\n",
    "cwd = '/Users/datnguyen/Documents/GitHub/P1-final/Text data/'\n",
    "files = os.listdir(cwd)\n",
    "\n",
    "for filename in files:\n",
    "    if filename == '.DS_Store':\n",
    "        None\n",
    "    elif filename == '3000 common English words.txt':\n",
    "        file_dir = cwd + filename\n",
    "        file = open(file_dir, 'rt')\n",
    "        text = file.read()\n",
    "        file.close()\n",
    "        common_words = text.split(\"\\n\")\n",
    "        # Generate a dictionary contains all words in common_words as key\n",
    "        # with their values are all zero by default. \n",
    "        for word in common_words:\n",
    "            common_words_dict[word] = 0\n",
    "    else:\n",
    "        file_dir = cwd + filename\n",
    "        file = open(file_dir, 'rt')\n",
    "        text = str(file.read()).lower()\n",
    "        file.close()\n",
    "        # Getting rid of insignificant components\n",
    "        text = ''.join([i for i in text if i not in insignificant])\n",
    "        text = text.split(' ')\n",
    "        text = list(filter(lambda a: a != '', text))\n",
    "        # Using nltk library to perform stemming on the text data for more better final result\n",
    "        sno = nltk.stem.SnowballStemmer('english')\n",
    "        value = [sno.stem(word) for word in text]\n",
    "        # Store all processed data into the text_data dictionary\n",
    "        text_data[filename[0:-4]] = value\n",
    "        # We are now done with the data handling process"
   ]
  },
  {
   "cell_type": "code",
   "execution_count": 139,
   "metadata": {},
   "outputs": [],
   "source": [
    "for text in text_data.keys():\n",
    "    common_words_counter = common_words_dict.copy()\n",
    "    for i in text_data[text]:\n",
    "        index = 5\n",
    "        if i in common_words:\n",
    "            common_words_counter[i] += 1\n",
    "        else:\n",
    "            None\n",
    "        \n",
    "    result[text] = sum(common_words_counter.values())"
   ]
  },
  {
   "cell_type": "code",
   "execution_count": 140,
   "metadata": {
    "scrolled": true
   },
   "outputs": [
    {
     "data": {
      "text/plain": [
       "{'stanfordcs231n': 109563,\n",
       " 'deeplearningbook': 150282,\n",
       " 'fastai': 95188,\n",
       " 'introtodeeplearning': 59802,\n",
       " 'sutton&bart': 130381,\n",
       " 'ISLR': 96292}"
      ]
     },
     "execution_count": 140,
     "metadata": {},
     "output_type": "execute_result"
    }
   ],
   "source": [
    "result"
   ]
  },
  {
   "cell_type": "code",
   "execution_count": 167,
   "metadata": {},
   "outputs": [],
   "source": [
    "for key in result.keys():\n",
    "    result[key] = (result[key]/len(text_data[key]))*100\n",
    "\n",
    "indexes = len(result.keys())\n",
    "text = []\n",
    "percentage_of_common_words = []\n",
    "for each in result:\n",
    "    text.append(each)\n",
    "    percentage_of_common_words.append(result[each])"
   ]
  },
  {
   "cell_type": "code",
   "execution_count": 191,
   "metadata": {
    "scrolled": true
   },
   "outputs": [
    {
     "data": {
      "image/png": "[encoded data removed]",
      "text/plain": [
       "<Figure size 648x360 with 1 Axes>"
      ]
     },
     "metadata": {
      "needs_background": "light"
     },
     "output_type": "display_data"
    }
   ],
   "source": [
    "%matplotlib inline\n",
    "import matplotlib.pyplot as plt\n",
    "\n",
    "fig = plt.figure(figsize=(9, 5))\n",
    "ax = fig.add_axes([0,0,1,1])\n",
    "ax.bar(text,percentage_of_common_words)\n",
    "ax.set_ylabel('Estimated % of words that are in the 3000 common English words')\n",
    "ax.set_title('English diffculty between different deep learning learning resources')\n",
    "plt.show()"
   ]
  }
 ],
 "metadata": {
  "kernelspec": {
   "display_name": "Python 3",
   "language": "python",
   "name": "python3"
  },
  "language_info": {
   "codemirror_mode": {
    "name": "ipython",
    "version": 3
   },
   "file_extension": ".py",
   "mimetype": "text/x-python",
   "name": "python",
   "nbconvert_exporter": "python",
   "pygments_lexer": "ipython3",
   "version": "3.8.5"
  }
 },
 "nbformat": 4,
 "nbformat_minor": 4
}
